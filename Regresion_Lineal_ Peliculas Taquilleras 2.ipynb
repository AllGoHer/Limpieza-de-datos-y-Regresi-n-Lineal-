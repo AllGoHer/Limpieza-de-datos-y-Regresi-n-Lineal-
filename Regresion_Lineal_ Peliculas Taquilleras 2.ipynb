{
 "cells": [
  {
   "cell_type": "code",
   "execution_count": 2,
   "id": "65f61bc9-3853-400b-8833-646c51519257",
   "metadata": {},
   "outputs": [],
   "source": [
    "import pandas as pd\n",
    "from sklearn.linear_model import LinearRegression"
   ]
  },
  {
   "cell_type": "code",
   "execution_count": 3,
   "id": "7f168d27-4f28-4706-adf2-75ec5f45efd4",
   "metadata": {},
   "outputs": [],
   "source": [
    "df= pd.read_csv(\"C:\\\\Users\\\\ALLAN\\\\Desktop\\\\Business Analitics con Python y ChatGPT\\\\peliculas.csv\")\n"
   ]
  },
  {
   "cell_type": "code",
   "execution_count": 4,
   "id": "d662409a-06f7-46f8-967a-298588b07f9b",
   "metadata": {},
   "outputs": [],
   "source": [
    "def convertir_a_numero(valor):\n",
    "    valor_limpio=valor.replace('$', '').replace(',','')\n",
    "    return pd.to_numeric(valor_limpio, errors='coerce')"
   ]
  },
  {
   "cell_type": "code",
   "execution_count": 5,
   "id": "5a4d9944-2711-43ec-a599-10a6d9f95746",
   "metadata": {},
   "outputs": [],
   "source": [
    "df['Presupuesto']=df['Presupuesto'].apply(convertir_a_numero)"
   ]
  },
  {
   "cell_type": "code",
   "execution_count": 6,
   "id": "0a17c256-0a71-45eb-999d-7d34887f616b",
   "metadata": {},
   "outputs": [],
   "source": [
    "df['TaquillaInternacional']=df['TaquillaInternacional'].apply(convertir_a_numero)"
   ]
  },
  {
   "cell_type": "code",
   "execution_count": 7,
   "id": "684a364f-58ae-47c4-836e-37ddb8e21ec9",
   "metadata": {},
   "outputs": [],
   "source": [
    "df['TaquillaEEUU']=df['TaquillaEEUU'].apply(convertir_a_numero)"
   ]
  },
  {
   "cell_type": "code",
   "execution_count": 8,
   "id": "95f35eac-1209-4a24-ad8b-d2f3cdd62979",
   "metadata": {},
   "outputs": [
    {
     "name": "stdout",
     "output_type": "stream",
     "text": [
      "<class 'pandas.core.frame.DataFrame'>\n",
      "RangeIndex: 5340 entries, 0 to 5339\n",
      "Data columns (total 6 columns):\n",
      " #   Column                 Non-Null Count  Dtype \n",
      "---  ------                 --------------  ----- \n",
      " 0   Ranking                5340 non-null   int64 \n",
      " 1   Estreno                5340 non-null   object\n",
      " 2   Pelicula               5340 non-null   object\n",
      " 3   Presupuesto            5340 non-null   int64 \n",
      " 4   TaquillaInternacional  5340 non-null   int64 \n",
      " 5   TaquillaEEUU           5340 non-null   int64 \n",
      "dtypes: int64(4), object(2)\n",
      "memory usage: 250.4+ KB\n"
     ]
    }
   ],
   "source": [
    "df.info()"
   ]
  },
  {
   "cell_type": "code",
   "execution_count": 10,
   "id": "f43f36e8-ac95-40c9-99d5-2a4aa32912c8",
   "metadata": {},
   "outputs": [],
   "source": [
    "df['Estreno']=pd.to_datetime(df['Estreno'])"
   ]
  },
  {
   "cell_type": "code",
   "execution_count": 11,
   "id": "b78227cd-bf6e-49f7-aaea-0c53a24feada",
   "metadata": {},
   "outputs": [
    {
     "name": "stdout",
     "output_type": "stream",
     "text": [
      "<class 'pandas.core.frame.DataFrame'>\n",
      "RangeIndex: 5340 entries, 0 to 5339\n",
      "Data columns (total 6 columns):\n",
      " #   Column                 Non-Null Count  Dtype         \n",
      "---  ------                 --------------  -----         \n",
      " 0   Ranking                5340 non-null   int64         \n",
      " 1   Estreno                5340 non-null   datetime64[ns]\n",
      " 2   Pelicula               5340 non-null   object        \n",
      " 3   Presupuesto            5340 non-null   int64         \n",
      " 4   TaquillaInternacional  5340 non-null   int64         \n",
      " 5   TaquillaEEUU           5340 non-null   int64         \n",
      "dtypes: datetime64[ns](1), int64(4), object(1)\n",
      "memory usage: 250.4+ KB\n"
     ]
    }
   ],
   "source": [
    "df.info()"
   ]
  },
  {
   "cell_type": "code",
   "execution_count": 12,
   "id": "a4841954-ea9c-45e6-96e2-5c0ddfbef625",
   "metadata": {},
   "outputs": [],
   "source": [
    "df['RecaudacionTotal']=df['TaquillaInternacional']+df['TaquillaEEUU']"
   ]
  },
  {
   "cell_type": "code",
   "execution_count": 13,
   "id": "6364948c-e105-400c-8875-f0dd81b456cc",
   "metadata": {},
   "outputs": [
    {
     "name": "stdout",
     "output_type": "stream",
     "text": [
      "<class 'pandas.core.frame.DataFrame'>\n",
      "RangeIndex: 5340 entries, 0 to 5339\n",
      "Data columns (total 7 columns):\n",
      " #   Column                 Non-Null Count  Dtype         \n",
      "---  ------                 --------------  -----         \n",
      " 0   Ranking                5340 non-null   int64         \n",
      " 1   Estreno                5340 non-null   datetime64[ns]\n",
      " 2   Pelicula               5340 non-null   object        \n",
      " 3   Presupuesto            5340 non-null   int64         \n",
      " 4   TaquillaInternacional  5340 non-null   int64         \n",
      " 5   TaquillaEEUU           5340 non-null   int64         \n",
      " 6   RecaudacionTotal       5340 non-null   int64         \n",
      "dtypes: datetime64[ns](1), int64(5), object(1)\n",
      "memory usage: 292.2+ KB\n"
     ]
    }
   ],
   "source": [
    "df.info()"
   ]
  },
  {
   "cell_type": "code",
   "execution_count": 14,
   "id": "de42d6ad-b791-4734-839e-c5e24cd59fec",
   "metadata": {},
   "outputs": [
    {
     "data": {
      "text/html": [
       "<div>\n",
       "<style scoped>\n",
       "    .dataframe tbody tr th:only-of-type {\n",
       "        vertical-align: middle;\n",
       "    }\n",
       "\n",
       "    .dataframe tbody tr th {\n",
       "        vertical-align: top;\n",
       "    }\n",
       "\n",
       "    .dataframe thead th {\n",
       "        text-align: right;\n",
       "    }\n",
       "</style>\n",
       "<table border=\"1\" class=\"dataframe\">\n",
       "  <thead>\n",
       "    <tr style=\"text-align: right;\">\n",
       "      <th></th>\n",
       "      <th>Ranking</th>\n",
       "      <th>Estreno</th>\n",
       "      <th>Pelicula</th>\n",
       "      <th>Presupuesto</th>\n",
       "      <th>TaquillaInternacional</th>\n",
       "      <th>TaquillaEEUU</th>\n",
       "      <th>RecaudacionTotal</th>\n",
       "    </tr>\n",
       "  </thead>\n",
       "  <tbody>\n",
       "    <tr>\n",
       "      <th>0</th>\n",
       "      <td>1</td>\n",
       "      <td>2009-12-18</td>\n",
       "      <td>Avatar</td>\n",
       "      <td>469625000</td>\n",
       "      <td>3077483239</td>\n",
       "      <td>840954122</td>\n",
       "      <td>3918437361</td>\n",
       "    </tr>\n",
       "    <tr>\n",
       "      <th>1</th>\n",
       "      <td>2</td>\n",
       "      <td>2015-12-18</td>\n",
       "      <td>Star Wars Ep. VII: The Force Awakens</td>\n",
       "      <td>338130000</td>\n",
       "      <td>2275748157</td>\n",
       "      <td>1035742355</td>\n",
       "      <td>3311490512</td>\n",
       "    </tr>\n",
       "    <tr>\n",
       "      <th>2</th>\n",
       "      <td>3</td>\n",
       "      <td>2007-05-24</td>\n",
       "      <td>Pirates of the Caribbean: At Worldâ€™s End</td>\n",
       "      <td>331500000</td>\n",
       "      <td>1065013109</td>\n",
       "      <td>342150918</td>\n",
       "      <td>1407164027</td>\n",
       "    </tr>\n",
       "    <tr>\n",
       "      <th>3</th>\n",
       "      <td>4</td>\n",
       "      <td>2015-06-11</td>\n",
       "      <td>Spectre</td>\n",
       "      <td>331500000</td>\n",
       "      <td>972376949</td>\n",
       "      <td>221238021</td>\n",
       "      <td>1193614970</td>\n",
       "    </tr>\n",
       "    <tr>\n",
       "      <th>4</th>\n",
       "      <td>5</td>\n",
       "      <td>2012-07-20</td>\n",
       "      <td>The Dark Knight Rises</td>\n",
       "      <td>303875000</td>\n",
       "      <td>1198793202</td>\n",
       "      <td>495543253</td>\n",
       "      <td>1694336455</td>\n",
       "    </tr>\n",
       "  </tbody>\n",
       "</table>\n",
       "</div>"
      ],
      "text/plain": [
       "   Ranking    Estreno                                    Pelicula  \\\n",
       "0        1 2009-12-18                                      Avatar   \n",
       "1        2 2015-12-18        Star Wars Ep. VII: The Force Awakens   \n",
       "2        3 2007-05-24  Pirates of the Caribbean: At Worldâ€™s End   \n",
       "3        4 2015-06-11                                     Spectre   \n",
       "4        5 2012-07-20                       The Dark Knight Rises   \n",
       "\n",
       "   Presupuesto  TaquillaInternacional  TaquillaEEUU  RecaudacionTotal  \n",
       "0    469625000             3077483239     840954122        3918437361  \n",
       "1    338130000             2275748157    1035742355        3311490512  \n",
       "2    331500000             1065013109     342150918        1407164027  \n",
       "3    331500000              972376949     221238021        1193614970  \n",
       "4    303875000             1198793202     495543253        1694336455  "
      ]
     },
     "execution_count": 14,
     "metadata": {},
     "output_type": "execute_result"
    }
   ],
   "source": [
    "df.head()"
   ]
  },
  {
   "cell_type": "code",
   "execution_count": 17,
   "id": "61da7ab6-7507-42dd-bec1-37eaddb8242b",
   "metadata": {},
   "outputs": [
    {
     "name": "stdout",
     "output_type": "stream",
     "text": [
      "<class 'pandas.core.frame.DataFrame'>\n",
      "Index: 5333 entries, 0 to 5339\n",
      "Data columns (total 7 columns):\n",
      " #   Column                 Non-Null Count  Dtype         \n",
      "---  ------                 --------------  -----         \n",
      " 0   Ranking                5333 non-null   int64         \n",
      " 1   Estreno                5333 non-null   datetime64[ns]\n",
      " 2   Pelicula               5333 non-null   object        \n",
      " 3   Presupuesto            5333 non-null   int64         \n",
      " 4   TaquillaInternacional  5333 non-null   int64         \n",
      " 5   TaquillaEEUU           5333 non-null   int64         \n",
      " 6   RecaudacionTotal       5333 non-null   int64         \n",
      "dtypes: datetime64[ns](1), int64(5), object(1)\n",
      "memory usage: 333.3+ KB\n"
     ]
    }
   ],
   "source": [
    "df_filtrado =df[df['Estreno']<'2018-05-01']\n",
    "df_filtrado.info()"
   ]
  },
  {
   "cell_type": "code",
   "execution_count": 18,
   "id": "0124fb80-995b-4549-86d9-6aee5cc983b4",
   "metadata": {},
   "outputs": [],
   "source": [
    "x=df_filtrado[['Presupuesto']]"
   ]
  },
  {
   "cell_type": "code",
   "execution_count": 19,
   "id": "7291a1af-5cdd-4214-93d3-1a1340b29c7c",
   "metadata": {},
   "outputs": [],
   "source": [
    "y=df_filtrado[['RecaudacionTotal']]"
   ]
  },
  {
   "cell_type": "code",
   "execution_count": 20,
   "id": "88a765b6-3cd0-4730-b61e-9dcc5833199f",
   "metadata": {},
   "outputs": [],
   "source": [
    "modelo= LinearRegression()"
   ]
  },
  {
   "cell_type": "code",
   "execution_count": 21,
   "id": "71364e26-b4a5-4a6e-bcce-799e053cf2f7",
   "metadata": {},
   "outputs": [
    {
     "data": {
      "text/html": [
       "<style>#sk-container-id-1 {color: black;background-color: white;}#sk-container-id-1 pre{padding: 0;}#sk-container-id-1 div.sk-toggleable {background-color: white;}#sk-container-id-1 label.sk-toggleable__label {cursor: pointer;display: block;width: 100%;margin-bottom: 0;padding: 0.3em;box-sizing: border-box;text-align: center;}#sk-container-id-1 label.sk-toggleable__label-arrow:before {content: \"▸\";float: left;margin-right: 0.25em;color: #696969;}#sk-container-id-1 label.sk-toggleable__label-arrow:hover:before {color: black;}#sk-container-id-1 div.sk-estimator:hover label.sk-toggleable__label-arrow:before {color: black;}#sk-container-id-1 div.sk-toggleable__content {max-height: 0;max-width: 0;overflow: hidden;text-align: left;background-color: #f0f8ff;}#sk-container-id-1 div.sk-toggleable__content pre {margin: 0.2em;color: black;border-radius: 0.25em;background-color: #f0f8ff;}#sk-container-id-1 input.sk-toggleable__control:checked~div.sk-toggleable__content {max-height: 200px;max-width: 100%;overflow: auto;}#sk-container-id-1 input.sk-toggleable__control:checked~label.sk-toggleable__label-arrow:before {content: \"▾\";}#sk-container-id-1 div.sk-estimator input.sk-toggleable__control:checked~label.sk-toggleable__label {background-color: #d4ebff;}#sk-container-id-1 div.sk-label input.sk-toggleable__control:checked~label.sk-toggleable__label {background-color: #d4ebff;}#sk-container-id-1 input.sk-hidden--visually {border: 0;clip: rect(1px 1px 1px 1px);clip: rect(1px, 1px, 1px, 1px);height: 1px;margin: -1px;overflow: hidden;padding: 0;position: absolute;width: 1px;}#sk-container-id-1 div.sk-estimator {font-family: monospace;background-color: #f0f8ff;border: 1px dotted black;border-radius: 0.25em;box-sizing: border-box;margin-bottom: 0.5em;}#sk-container-id-1 div.sk-estimator:hover {background-color: #d4ebff;}#sk-container-id-1 div.sk-parallel-item::after {content: \"\";width: 100%;border-bottom: 1px solid gray;flex-grow: 1;}#sk-container-id-1 div.sk-label:hover label.sk-toggleable__label {background-color: #d4ebff;}#sk-container-id-1 div.sk-serial::before {content: \"\";position: absolute;border-left: 1px solid gray;box-sizing: border-box;top: 0;bottom: 0;left: 50%;z-index: 0;}#sk-container-id-1 div.sk-serial {display: flex;flex-direction: column;align-items: center;background-color: white;padding-right: 0.2em;padding-left: 0.2em;position: relative;}#sk-container-id-1 div.sk-item {position: relative;z-index: 1;}#sk-container-id-1 div.sk-parallel {display: flex;align-items: stretch;justify-content: center;background-color: white;position: relative;}#sk-container-id-1 div.sk-item::before, #sk-container-id-1 div.sk-parallel-item::before {content: \"\";position: absolute;border-left: 1px solid gray;box-sizing: border-box;top: 0;bottom: 0;left: 50%;z-index: -1;}#sk-container-id-1 div.sk-parallel-item {display: flex;flex-direction: column;z-index: 1;position: relative;background-color: white;}#sk-container-id-1 div.sk-parallel-item:first-child::after {align-self: flex-end;width: 50%;}#sk-container-id-1 div.sk-parallel-item:last-child::after {align-self: flex-start;width: 50%;}#sk-container-id-1 div.sk-parallel-item:only-child::after {width: 0;}#sk-container-id-1 div.sk-dashed-wrapped {border: 1px dashed gray;margin: 0 0.4em 0.5em 0.4em;box-sizing: border-box;padding-bottom: 0.4em;background-color: white;}#sk-container-id-1 div.sk-label label {font-family: monospace;font-weight: bold;display: inline-block;line-height: 1.2em;}#sk-container-id-1 div.sk-label-container {text-align: center;}#sk-container-id-1 div.sk-container {/* jupyter's `normalize.less` sets `[hidden] { display: none; }` but bootstrap.min.css set `[hidden] { display: none !important; }` so we also need the `!important` here to be able to override the default hidden behavior on the sphinx rendered scikit-learn.org. See: https://github.com/scikit-learn/scikit-learn/issues/21755 */display: inline-block !important;position: relative;}#sk-container-id-1 div.sk-text-repr-fallback {display: none;}</style><div id=\"sk-container-id-1\" class=\"sk-top-container\"><div class=\"sk-text-repr-fallback\"><pre>LinearRegression()</pre><b>In a Jupyter environment, please rerun this cell to show the HTML representation or trust the notebook. <br />On GitHub, the HTML representation is unable to render, please try loading this page with nbviewer.org.</b></div><div class=\"sk-container\" hidden><div class=\"sk-item\"><div class=\"sk-estimator sk-toggleable\"><input class=\"sk-toggleable__control sk-hidden--visually\" id=\"sk-estimator-id-1\" type=\"checkbox\" checked><label for=\"sk-estimator-id-1\" class=\"sk-toggleable__label sk-toggleable__label-arrow\">LinearRegression</label><div class=\"sk-toggleable__content\"><pre>LinearRegression()</pre></div></div></div></div></div>"
      ],
      "text/plain": [
       "LinearRegression()"
      ]
     },
     "execution_count": 21,
     "metadata": {},
     "output_type": "execute_result"
    }
   ],
   "source": [
    "modelo.fit(x,y)"
   ]
  },
  {
   "cell_type": "code",
   "execution_count": 23,
   "id": "af641e0f-a114-42c9-943e-4114105fe9af",
   "metadata": {},
   "outputs": [],
   "source": [
    "Intercepto = modelo.intercept_"
   ]
  },
  {
   "cell_type": "code",
   "execution_count": 24,
   "id": "43509f5a-9a1c-481b-a561-2af059b21836",
   "metadata": {},
   "outputs": [],
   "source": [
    "coeficiente= modelo.coef_[0]"
   ]
  },
  {
   "cell_type": "code",
   "execution_count": 25,
   "id": "326792af-4c21-414e-bfe6-8f9a11a281ed",
   "metadata": {},
   "outputs": [
    {
     "data": {
      "text/plain": [
       "array([-2037587.27425268])"
      ]
     },
     "execution_count": 25,
     "metadata": {},
     "output_type": "execute_result"
    }
   ],
   "source": [
    "Intercepto"
   ]
  },
  {
   "cell_type": "code",
   "execution_count": 26,
   "id": "dde276fc-3f8c-47cd-8e87-b88b4c967cc4",
   "metadata": {},
   "outputs": [
    {
     "data": {
      "text/plain": [
       "array([4.23875169])"
      ]
     },
     "execution_count": 26,
     "metadata": {},
     "output_type": "execute_result"
    }
   ],
   "source": [
    "coeficiente"
   ]
  },
  {
   "cell_type": "code",
   "execution_count": null,
   "id": "424eefd8-290f-4232-8042-134756b8beb1",
   "metadata": {},
   "outputs": [],
   "source": []
  }
 ],
 "metadata": {
  "kernelspec": {
   "display_name": "Python 3 (ipykernel)",
   "language": "python",
   "name": "python3"
  },
  "language_info": {
   "codemirror_mode": {
    "name": "ipython",
    "version": 3
   },
   "file_extension": ".py",
   "mimetype": "text/x-python",
   "name": "python",
   "nbconvert_exporter": "python",
   "pygments_lexer": "ipython3",
   "version": "3.11.7"
  }
 },
 "nbformat": 4,
 "nbformat_minor": 5
}
