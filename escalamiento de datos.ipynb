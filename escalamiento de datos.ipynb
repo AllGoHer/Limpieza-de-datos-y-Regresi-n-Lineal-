{
 "cells": [
  {
   "cell_type": "code",
   "execution_count": null,
   "id": "993bfd32-d86c-4bbe-a557-99c5c6ee74fc",
   "metadata": {},
   "outputs": [],
   "source": [
    "import pandas as pd\n",
    " \n",
    "# Cargar el archivo CSV en un DataFrame\n",
    "df = pd.read_csv('peliculas.csv')\n",
    " \n",
    "# Dividir las columnas presupuesto, taquilla internacional y taquilla EE. UU. por 1 millón\n",
    "df['Presupuesto'] = df['Presupuesto'] / 1000000\n",
    "df['Taquilla Internacional'] = df['Taquilla Internacional'] / 1000000\n",
    "df['Taquilla EE. UU.'] = df['Taquilla EE. UU.'] / 1000000\n",
    " \n",
    "# Mostrar el DataFrame actualizado\n",
    "print(df)"
   ]
  }
 ],
 "metadata": {
  "kernelspec": {
   "display_name": "Python 3 (ipykernel)",
   "language": "python",
   "name": "python3"
  },
  "language_info": {
   "codemirror_mode": {
    "name": "ipython",
    "version": 3
   },
   "file_extension": ".py",
   "mimetype": "text/x-python",
   "name": "python",
   "nbconvert_exporter": "python",
   "pygments_lexer": "ipython3",
   "version": "3.11.7"
  }
 },
 "nbformat": 4,
 "nbformat_minor": 5
}
